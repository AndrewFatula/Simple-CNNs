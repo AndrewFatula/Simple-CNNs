{
  "nbformat": 4,
  "nbformat_minor": 0,
  "metadata": {
    "colab": {
      "name": "FEC_TPU_RESNET",
      "provenance": [],
      "collapsed_sections": [],
      "include_colab_link": true
    },
    "kernelspec": {
      "name": "python3",
      "display_name": "Python 3"
    },
    "accelerator": "TPU"
  },
  "cells": [
    {
      "cell_type": "markdown",
      "metadata": {
        "id": "view-in-github",
        "colab_type": "text"
      },
      "source": [
        "<a href=\"https://colab.research.google.com/github/AndrewFatula/Simple-CNNs/blob/master/FEC_TPU_RESNET.ipynb\" target=\"_parent\"><img src=\"https://colab.research.google.com/assets/colab-badge.svg\" alt=\"Open In Colab\"/></a>"
      ]
    },
    {
      "cell_type": "code",
      "metadata": {
        "id": "CYIhjvKtWXB-",
        "colab_type": "code",
        "outputId": "8cc9cd00-ac2a-4d70-fa47-887f508feb54",
        "colab": {
          "base_uri": "https://localhost:8080/",
          "height": 52
        }
      },
      "source": [
        "\n",
        "import numpy as np\n",
        "import pandas as pd\n",
        "import os\n",
        "import time\n",
        "import matplotlib.pyplot as plt\n",
        "from collections import deque\n",
        "\n",
        "\n",
        "# tensorflow imports\n",
        "import tensorflow as tf\n",
        "\n",
        "# tf.keras imports\n",
        "from tensorflow.keras import Model\n",
        "from keras import regularizers\n",
        "\n",
        "import matplotlib.pyplot as plt\n",
        "from sklearn.model_selection import train_test_split\n",
        "\n",
        "print(tf.__version__)"
      ],
      "execution_count": 0,
      "outputs": [
        {
          "output_type": "stream",
          "text": [
            "Using TensorFlow backend.\n"
          ],
          "name": "stderr"
        },
        {
          "output_type": "stream",
          "text": [
            "2.0.0\n"
          ],
          "name": "stdout"
        }
      ]
    },
    {
      "cell_type": "code",
      "metadata": {
        "id": "XzT5Vvz_WrnH",
        "colab_type": "code",
        "colab": {}
      },
      "source": [
        "!pip uninstall auth\n",
        "!pip uninstall grpcio\n",
        "!pip uninstall tensorflow\n",
        "!pip install auth==1.4.2\n",
        "!pip install grpcio==1.24.3\n",
        "!pip install tensorflow==2.0.0\n",
        "print(tf.__version__)"
      ],
      "execution_count": 0,
      "outputs": []
    },
    {
      "cell_type": "code",
      "metadata": {
        "id": "Cu9CjO-IX4mp",
        "colab_type": "code",
        "colab": {}
      },
      "source": [
        "!pip install -U -q PyDrive\n",
        "from pydrive.auth import GoogleAuth\n",
        "from pydrive.drive import GoogleDrive\n",
        "from google.colab import auth\n",
        "from oauth2client.client import GoogleCredentials"
      ],
      "execution_count": 0,
      "outputs": []
    },
    {
      "cell_type": "code",
      "metadata": {
        "id": "lLkIZ4uOXV92",
        "colab_type": "code",
        "colab": {}
      },
      "source": [
        "auth.authenticate_user()\n",
        "gauth = GoogleAuth()\n",
        "gauth.credentials = GoogleCredentials.get_application_default()\n",
        "drive = GoogleDrive(gauth)"
      ],
      "execution_count": 0,
      "outputs": []
    },
    {
      "cell_type": "code",
      "metadata": {
        "id": "-a4HTojrYGaj",
        "colab_type": "code",
        "outputId": "b304dd66-0619-490d-f548-82949a20bb6b",
        "colab": {
          "base_uri": "https://localhost:8080/",
          "height": 763
        }
      },
      "source": [
        "downloaded = drive.CreateFile({'id':'1ZhyHQLphQOR1txqVfRFUgin8t0DB2cQj'}) # replace the id with id of file you want to access\n",
        "downloaded.GetContentFile('face_images.npz') \n",
        "downloaded = drive.CreateFile({'id':'1on6VZZeFPpkGjNpz7rv4fwRzX2ZCyPUW'}) # replace the id with id of file you want to access\n",
        "downloaded.GetContentFile('facial_keypoints.csv') \n",
        "\n",
        "dfile = \"face_images.npz\"\n",
        "images = np.load(dfile, allow_pickle = True)['face_images']\n",
        "facial_keypoints_df = pd.read_csv('facial_keypoints.csv')\n",
        "\n",
        "\n",
        "if 'COLAB_TPU_ADDR' not in os.environ:\n",
        "  print('ERROR: Not connected to a TPU runtime; please see the first cell in this notebook for instructions!')\n",
        "else:\n",
        "  tpu_address = 'grpc://' + os.environ['COLAB_TPU_ADDR']\n",
        "  print ('TPU address is', tpu_address)\n",
        "\n",
        "\n",
        "cluster_resolver = tf.distribute.cluster_resolver.TPUClusterResolver(\n",
        "    tpu=tpu_address)\n",
        "tf.config.experimental_connect_to_cluster(cluster_resolver)\n",
        "tf.tpu.experimental.initialize_tpu_system(cluster_resolver)\n",
        "tpu_strategy = tf.distribute.experimental.TPUStrategy(cluster_resolver)\n",
        "\n",
        "BATCH_SIZE_PER_REPLICA = 16\n",
        "BATCH_SIZE = BATCH_SIZE_PER_REPLICA * tpu_strategy.num_replicas_in_sync\n",
        "\n",
        "print ('Number of devices: {}'.format(tpu_strategy.num_replicas_in_sync))\n"
      ],
      "execution_count": 0,
      "outputs": [
        {
          "output_type": "stream",
          "text": [
            "TPU address is grpc://10.83.214.250:8470\n",
            "INFO:tensorflow:Initializing the TPU system: 10.83.214.250:8470\n"
          ],
          "name": "stdout"
        },
        {
          "output_type": "stream",
          "text": [
            "INFO:tensorflow:Initializing the TPU system: 10.83.214.250:8470\n"
          ],
          "name": "stderr"
        },
        {
          "output_type": "stream",
          "text": [
            "INFO:tensorflow:Clearing out eager caches\n"
          ],
          "name": "stdout"
        },
        {
          "output_type": "stream",
          "text": [
            "INFO:tensorflow:Clearing out eager caches\n"
          ],
          "name": "stderr"
        },
        {
          "output_type": "stream",
          "text": [
            "INFO:tensorflow:Finished initializing TPU system.\n"
          ],
          "name": "stdout"
        },
        {
          "output_type": "stream",
          "text": [
            "INFO:tensorflow:Finished initializing TPU system.\n"
          ],
          "name": "stderr"
        },
        {
          "output_type": "stream",
          "text": [
            "INFO:tensorflow:Found TPU system:\n"
          ],
          "name": "stdout"
        },
        {
          "output_type": "stream",
          "text": [
            "INFO:tensorflow:Found TPU system:\n"
          ],
          "name": "stderr"
        },
        {
          "output_type": "stream",
          "text": [
            "INFO:tensorflow:*** Num TPU Cores: 8\n"
          ],
          "name": "stdout"
        },
        {
          "output_type": "stream",
          "text": [
            "INFO:tensorflow:*** Num TPU Cores: 8\n"
          ],
          "name": "stderr"
        },
        {
          "output_type": "stream",
          "text": [
            "INFO:tensorflow:*** Num TPU Workers: 1\n"
          ],
          "name": "stdout"
        },
        {
          "output_type": "stream",
          "text": [
            "INFO:tensorflow:*** Num TPU Workers: 1\n"
          ],
          "name": "stderr"
        },
        {
          "output_type": "stream",
          "text": [
            "INFO:tensorflow:*** Num TPU Cores Per Worker: 8\n"
          ],
          "name": "stdout"
        },
        {
          "output_type": "stream",
          "text": [
            "INFO:tensorflow:*** Num TPU Cores Per Worker: 8\n"
          ],
          "name": "stderr"
        },
        {
          "output_type": "stream",
          "text": [
            "INFO:tensorflow:*** Available Device: _DeviceAttributes(/job:localhost/replica:0/task:0/device:CPU:0, CPU, 0, 0)\n"
          ],
          "name": "stdout"
        },
        {
          "output_type": "stream",
          "text": [
            "INFO:tensorflow:*** Available Device: _DeviceAttributes(/job:localhost/replica:0/task:0/device:CPU:0, CPU, 0, 0)\n"
          ],
          "name": "stderr"
        },
        {
          "output_type": "stream",
          "text": [
            "INFO:tensorflow:*** Available Device: _DeviceAttributes(/job:localhost/replica:0/task:0/device:XLA_CPU:0, XLA_CPU, 0, 0)\n"
          ],
          "name": "stdout"
        },
        {
          "output_type": "stream",
          "text": [
            "INFO:tensorflow:*** Available Device: _DeviceAttributes(/job:localhost/replica:0/task:0/device:XLA_CPU:0, XLA_CPU, 0, 0)\n"
          ],
          "name": "stderr"
        },
        {
          "output_type": "stream",
          "text": [
            "INFO:tensorflow:*** Available Device: _DeviceAttributes(/job:worker/replica:0/task:0/device:CPU:0, CPU, 0, 0)\n"
          ],
          "name": "stdout"
        },
        {
          "output_type": "stream",
          "text": [
            "INFO:tensorflow:*** Available Device: _DeviceAttributes(/job:worker/replica:0/task:0/device:CPU:0, CPU, 0, 0)\n"
          ],
          "name": "stderr"
        },
        {
          "output_type": "stream",
          "text": [
            "INFO:tensorflow:*** Available Device: _DeviceAttributes(/job:worker/replica:0/task:0/device:TPU:0, TPU, 0, 0)\n"
          ],
          "name": "stdout"
        },
        {
          "output_type": "stream",
          "text": [
            "INFO:tensorflow:*** Available Device: _DeviceAttributes(/job:worker/replica:0/task:0/device:TPU:0, TPU, 0, 0)\n"
          ],
          "name": "stderr"
        },
        {
          "output_type": "stream",
          "text": [
            "INFO:tensorflow:*** Available Device: _DeviceAttributes(/job:worker/replica:0/task:0/device:TPU:1, TPU, 0, 0)\n"
          ],
          "name": "stdout"
        },
        {
          "output_type": "stream",
          "text": [
            "INFO:tensorflow:*** Available Device: _DeviceAttributes(/job:worker/replica:0/task:0/device:TPU:1, TPU, 0, 0)\n"
          ],
          "name": "stderr"
        },
        {
          "output_type": "stream",
          "text": [
            "INFO:tensorflow:*** Available Device: _DeviceAttributes(/job:worker/replica:0/task:0/device:TPU:2, TPU, 0, 0)\n"
          ],
          "name": "stdout"
        },
        {
          "output_type": "stream",
          "text": [
            "INFO:tensorflow:*** Available Device: _DeviceAttributes(/job:worker/replica:0/task:0/device:TPU:2, TPU, 0, 0)\n"
          ],
          "name": "stderr"
        },
        {
          "output_type": "stream",
          "text": [
            "INFO:tensorflow:*** Available Device: _DeviceAttributes(/job:worker/replica:0/task:0/device:TPU:3, TPU, 0, 0)\n"
          ],
          "name": "stdout"
        },
        {
          "output_type": "stream",
          "text": [
            "INFO:tensorflow:*** Available Device: _DeviceAttributes(/job:worker/replica:0/task:0/device:TPU:3, TPU, 0, 0)\n"
          ],
          "name": "stderr"
        },
        {
          "output_type": "stream",
          "text": [
            "INFO:tensorflow:*** Available Device: _DeviceAttributes(/job:worker/replica:0/task:0/device:TPU:4, TPU, 0, 0)\n"
          ],
          "name": "stdout"
        },
        {
          "output_type": "stream",
          "text": [
            "INFO:tensorflow:*** Available Device: _DeviceAttributes(/job:worker/replica:0/task:0/device:TPU:4, TPU, 0, 0)\n"
          ],
          "name": "stderr"
        },
        {
          "output_type": "stream",
          "text": [
            "INFO:tensorflow:*** Available Device: _DeviceAttributes(/job:worker/replica:0/task:0/device:TPU:5, TPU, 0, 0)\n"
          ],
          "name": "stdout"
        },
        {
          "output_type": "stream",
          "text": [
            "INFO:tensorflow:*** Available Device: _DeviceAttributes(/job:worker/replica:0/task:0/device:TPU:5, TPU, 0, 0)\n"
          ],
          "name": "stderr"
        },
        {
          "output_type": "stream",
          "text": [
            "INFO:tensorflow:*** Available Device: _DeviceAttributes(/job:worker/replica:0/task:0/device:TPU:6, TPU, 0, 0)\n"
          ],
          "name": "stdout"
        },
        {
          "output_type": "stream",
          "text": [
            "INFO:tensorflow:*** Available Device: _DeviceAttributes(/job:worker/replica:0/task:0/device:TPU:6, TPU, 0, 0)\n"
          ],
          "name": "stderr"
        },
        {
          "output_type": "stream",
          "text": [
            "INFO:tensorflow:*** Available Device: _DeviceAttributes(/job:worker/replica:0/task:0/device:TPU:7, TPU, 0, 0)\n"
          ],
          "name": "stdout"
        },
        {
          "output_type": "stream",
          "text": [
            "INFO:tensorflow:*** Available Device: _DeviceAttributes(/job:worker/replica:0/task:0/device:TPU:7, TPU, 0, 0)\n"
          ],
          "name": "stderr"
        },
        {
          "output_type": "stream",
          "text": [
            "INFO:tensorflow:*** Available Device: _DeviceAttributes(/job:worker/replica:0/task:0/device:TPU_SYSTEM:0, TPU_SYSTEM, 0, 0)\n"
          ],
          "name": "stdout"
        },
        {
          "output_type": "stream",
          "text": [
            "INFO:tensorflow:*** Available Device: _DeviceAttributes(/job:worker/replica:0/task:0/device:TPU_SYSTEM:0, TPU_SYSTEM, 0, 0)\n"
          ],
          "name": "stderr"
        },
        {
          "output_type": "stream",
          "text": [
            "INFO:tensorflow:*** Available Device: _DeviceAttributes(/job:worker/replica:0/task:0/device:XLA_CPU:0, XLA_CPU, 0, 0)\n"
          ],
          "name": "stdout"
        },
        {
          "output_type": "stream",
          "text": [
            "INFO:tensorflow:*** Available Device: _DeviceAttributes(/job:worker/replica:0/task:0/device:XLA_CPU:0, XLA_CPU, 0, 0)\n"
          ],
          "name": "stderr"
        },
        {
          "output_type": "stream",
          "text": [
            "Number of devices: 8\n"
          ],
          "name": "stdout"
        }
      ]
    },
    {
      "cell_type": "code",
      "metadata": {
        "id": "PxKRFKqNZTKd",
        "colab_type": "code",
        "colab": {}
      },
      "source": [
        "LEARNING_RATE = 0.005\n",
        "num_classes = 30\n",
        "n_filters = 64\n",
        "n_fc1 = 2048\n",
        "n_fc2 = 1024\n",
        "pool = (4,4)\n",
        "kernel_size1 = (3,3)\n",
        "kernel_size2 = (2,2)\n",
        "input_shape = ( 96, 96, 1)\n",
        "\n",
        "n_epochs = 600\n",
        "\n",
        "#input, n_filters, strides\n",
        "\n",
        "\n",
        "\n",
        "\n",
        "class bottleneck_block(tf.keras.layers.Layer):\n",
        "  def __init__(self, input_shape, n_filters):\n",
        "    super(bottleneck_block, self).__init__()\n",
        "    self.short = tf.keras.layers.Conv2D(n_filters, kernel_size = (1,1), \n",
        "                                        input_shape=input_shape, activation=\"relu\", kernel_regularizer=regularizers.l2(0.002))\n",
        "    input_shape2 = (input_shape[0], input_shape[1], int(n_filters/4))\n",
        "    input_shape3 = (input_shape[0], input_shape[1], int(n_filters/2))\n",
        "\n",
        "    self.conv1 = tf.keras.layers.Conv2D(int(n_filters/4), kernel_size = (1,1),\n",
        "                                        input_shape=input_shape, activation=\"relu\", kernel_regularizer=regularizers.l2(0.002))\n",
        "    self.conv2 = tf.keras.layers.Conv2D(int(n_filters/2), kernel_size = (3,3), \n",
        "                                        padding = \"same\",input_shape=input_shape2, activation=\"relu\", kernel_regularizer=regularizers.l2(0.002))\n",
        "    self.out = tf.keras.layers.Conv2D(n_filters, kernel_size = (1,1), \n",
        "                                      padding = \"same\", input_shape=input_shape3, activation=\"relu\", kernel_regularizer=regularizers.l2(0.002))\n",
        "    self.layers = [self.short, self.conv1, self.conv2, self.out]\n",
        "\n",
        "  def call(self, input):\n",
        "     shortcut = self.short(input)\n",
        "     input2 = self.conv1(input)\n",
        "     input3 = self.conv2(input2)\n",
        "     output = self.out(input3)\n",
        "     return tf.keras.layers.Add()([shortcut, output]) \n",
        "\n",
        "  def get_layers(self):\n",
        "    return self.layers  \n",
        "\n",
        "\n",
        "class bottleneck_block_without_shortcut(tf.keras.layers.Layer):\n",
        "  def __init__(self, input_shape):\n",
        "    super(bottleneck_block_without_shortcut, self).__init__()\n",
        "    input_shape2 = (input_shape[0], input_shape[1], int(input_shape[2]/4))\n",
        "    input_shape3 = (input_shape[0], input_shape[1], int(input_shape[2]/2))\n",
        "\n",
        "    self.conv1 = tf.keras.layers.Conv2D(int(input_shape[2]/4), kernel_size = (1,1),\n",
        "                                        input_shape=input_shape, activation=\"relu\", kernel_regularizer=regularizers.l2(0.002))\n",
        "    self.conv2 = tf.keras.layers.Conv2D(int(input_shape[2]/2), kernel_size = (3,3), \n",
        "                                        padding = \"same\",input_shape=input_shape2, \n",
        "                                        activation=\"relu\", kernel_regularizer=regularizers.l2(0.002))\n",
        "    self.out = tf.keras.layers.Conv2D(input_shape[2], kernel_size = (1,1), padding = \"same\", \n",
        "                                      input_shape=input_shape3, activation=\"relu\", kernel_regularizer=regularizers.l2(0.002))\n",
        "    self.layers = [ self.conv1, self.conv2, self.out]\n",
        "\n",
        "  def call(self, input):\n",
        "     input2 = self.conv1(input)\n",
        "     input3 = self.conv2(input2)\n",
        "     output = self.out(input3)\n",
        "     return tf.keras.layers.Add()([input, output]) \n",
        "\n",
        "  def get_layers(self):\n",
        "    return self.layers \n",
        "\n",
        "\n",
        "\n",
        "\n",
        "\n",
        "class residual_block(tf.keras.layers.Layer):\n",
        "  def __init__(self, input_shape, n_filters, kernel_size):\n",
        "    super(residual_block, self).__init__()\n",
        "\n",
        "    self.short = tf.keras.layers.Conv2D(n_filters, kernel_size = (kernel_size[0]*3 - 2, kernel_size[1]*3 - 2),  \n",
        "                                        input_shape = input_shape, activation=\"relu\", kernel_regularizer=regularizers.l2(0.002))\n",
        "    self.conv1 = tf.keras.layers.Conv2D(int(n_filters/4), kernel_size = kernel_size, input_shape=input_shape, activation=\"relu\", kernel_regularizer=regularizers.l2(0.002))\n",
        "\n",
        "    input_shape2 = (input_shape[1]-(kernel_size[0]-1), input_shape[2] - (kernel_size[1]-1), int(n_filters/4))\n",
        "    self.conv2 = tf.keras.layers.Conv2D(int(n_filters/2), kernel_size = kernel_size, input_shape = input_shape2, activation=\"relu\", kernel_regularizer=regularizers.l2(0.002))\n",
        "\n",
        "    input_shape3 = (input_shape2[1]-(kernel_size[0]-1), input_shape2[2] - (kernel_size[1]-1), int(n_filters/2))\n",
        "    self.conv3 = tf.keras.layers.Conv2D(n_filters, kernel_size = kernel_size, input_shape = input_shape3, activation=\"relu\", kernel_regularizer=regularizers.l2(0.002))\n",
        "\n",
        "    self.layers = [self.short, self.conv1, self.conv2, self.conv3]\n",
        "\n",
        "  def call(self, input):\n",
        "     shortcut = self.short(input)\n",
        "     input2 = self.conv1(input)\n",
        "     input3 = self.conv2(input2)\n",
        "     output = self.conv3(input3)\n",
        "     return tf.keras.layers.Add()([shortcut, output]) \n",
        "\n",
        "  def get_layers(self):\n",
        "    return self.layers  \n",
        "\n",
        "\n",
        "\n",
        "class BCNN(tf.keras.Model):\n",
        "\n",
        "  def __init__(self, input, num_classes, n_filters, n_fc1, n_fc2):\n",
        "    super(BCNN, self).__init__()\n",
        "    self.start_conv = tf.keras.layers.Conv2D(int(n_filters/8), kernel_size = (5, 5), padding = \"same\",  \n",
        "                                        input_shape = input, activation=\"relu\", kernel_regularizer=regularizers.l2(0.002))\n",
        "    \n",
        "    input_shape = (input[0], input[1], int(n_filters/8))\n",
        "    self.bottleneck1 = bottleneck_block(input_shape, n_filters)\n",
        "    self.dropout = tf.keras.layers.Dropout(0.3)\n",
        "    self.pool1 = tf.keras.layers.MaxPooling2D(pool_size = (2,2))\n",
        "\n",
        "\n",
        "    input_shape1 = (int(input_shape[0]/2), int(input_shape[1]/2), n_filters)\n",
        "    self.bottleneck2 = bottleneck_block_without_shortcut(input_shape1)\n",
        "    self.pool2 = tf.keras.layers.MaxPooling2D(pool_size = (2,2))\n",
        "\n",
        "    input_shape2 = (int(input_shape[0]/4), int(input_shape[1]/4), n_filters)\n",
        "    self.bottleneck3 = bottleneck_block_without_shortcut(input_shape2)\n",
        "    self.pool3 = tf.keras.layers.MaxPooling2D(pool_size = (2,2))\n",
        "\n",
        "    input_shape3 = (int(input_shape[0]/8), int(input_shape[1]/8), n_filters)\n",
        "    self.bottleneck4 = bottleneck_block(input_shape3, n_filters*8)\n",
        "    self.pool4 = tf.keras.layers.MaxPooling2D(pool_size = (2,2))\n",
        "\n",
        "    self.flatten = tf.keras.layers.Flatten()\n",
        "    self.fc1 = tf.keras.layers.Dense(n_fc1, activation=\"relu\", kernel_regularizer=regularizers.l2(0.002))\n",
        "    self.fc2 = tf.keras.layers.Dense(n_fc2, activation=\"relu\", kernel_regularizer=regularizers.l2(0.002))\n",
        "    self.out = tf.keras.layers.Dense(num_classes, kernel_regularizer=regularizers.l2(0.002))\n",
        "\n",
        "  def call(self, inputs, train = True):\n",
        "    if train:\n",
        "      x = self.start_conv(inputs)\n",
        "      x1_ = self.bottleneck1(x)\n",
        "      x1 = self.dropout(x1_)\n",
        "      x2 = self.pool1(x1)\n",
        "      x3_ = self.bottleneck2(x2)\n",
        "      x3 = self.dropout(x3_)\n",
        "      x4 = self.pool2(x3)\n",
        "      x5_ = self.bottleneck3(x4)\n",
        "      x5 = self.dropout(x5_)\n",
        "      x6 = self.pool2(x5)\n",
        "      x7_ = self.bottleneck4(x6)\n",
        "      x7 = self.dropout(x7_)\n",
        "      x8 = self.pool4(x7)\n",
        "      x9 = self.flatten(x8)\n",
        "      x10_ = self.fc1(x9)\n",
        "      x10 = self.dropout(x10_)\n",
        "      x11_ = self.fc2(x10)\n",
        "      x11 = self.dropout(x11_)\n",
        "      x12 = self.out(x11)\n",
        "      return tanhshrink(x12)\n",
        "    else:\n",
        "      x = self.start_conv(inputs)\n",
        "      x1 = self.bottleneck1(x)\n",
        "      x2 = self.pool1(x1)\n",
        "      x3 = self.bottleneck2(x2)\n",
        "      x4 = self.pool2(x3)\n",
        "      x5 = self.bottleneck3(x4)\n",
        "      x6 = self.pool2(x5)\n",
        "      x7 = self.bottleneck4(x6)\n",
        "      x8 = self.pool4(x7)\n",
        "      x9 = self.flatten(x8)\n",
        "      x10 = self.fc1(x9)\n",
        "      x11 = self.fc2(x10)\n",
        "      x12 = self.out(x11)\n",
        "      return tanhshrink(x12)\n",
        "\n",
        "\n",
        "\n",
        "class RCNN(tf.keras.Model):\n",
        "\n",
        "  def __init__(self, input, num_classes, n_filters, kernel_size1, kernel_size2, n_fc1, n_fc2):\n",
        "    super(RCNN, self).__init__()\n",
        "    self.start_conv = tf.keras.layers.Conv2D(int(n_filters/2), kernel_size = (7, 7), padding = \"same\",  \n",
        "                                        input_shape = input, activation=\"relu\", kernel_regularizer=regularizers.l2(0.002))\n",
        "    \n",
        "    input_shape1 = (input[0], input[1], int(n_filters/8))\n",
        "    self.bottleneck1 = bottleneck_block(input_shape1, n_filters)\n",
        "    self.pool1 = tf.keras.layers.AveragePooling2D(pool_size = (2,2))\n",
        "\n",
        "    input_shape2 = (int((input_shape[0])/2), int((input_shape[1])/2), n_filters)\n",
        "    self.bottleneck2 = residual_block(input_shape2, n_filters*4, kernel_size = kernel_size1)\n",
        "    self.pool2 = tf.keras.layers.AveragePooling2D(pool_size = (2,2))\n",
        "\n",
        "    input_shape3 = (int((input_shape1[0]-6)/2), int((input_shape1[1]-6)/2), n_filters*4)\n",
        "    self.bottleneck3 = residual_block(input_shape3, n_filters*8, kernel_size = kernel_size2)\n",
        "    self.pool3 = tf.keras.layers.AveragePooling2D(pool_size = (2,2))\n",
        "\n",
        "    input_shape4 = (int((input_shape2[0]-3)/2), int((input_shape2[1]-3)/2), n_filters*8)\n",
        "    self.residual4 = residual_block(input_shape4, n_filters*16, kernel_size = kernel_size2)\n",
        "    self.pool4 = tf.keras.layers.AveragePooling2D(pool_size = (2,2))\n",
        "\n",
        "    self.flatten = tf.keras.layers.Flatten()\n",
        "    self.fc1 = tf.keras.layers.Dense(n_fc1, activation=\"relu\", kernel_regularizer=regularizers.l2(0.002))\n",
        "    self.fc2 = tf.keras.layers.Dense(n_fc2, activation=\"relu\", kernel_regularizer=regularizers.l2(0.002))\n",
        "    self.out = tf.keras.layers.Dense(num_classes, kernel_regularizer=regularizers.l2(0.002))\n",
        "\n",
        "  def call(self, inputs):\n",
        "    x1 = self.bottleneck1(inputs)\n",
        "    x2 = self.pool1(x1)\n",
        "    x3 = self.bottleneck2(x2)\n",
        "    x4 = self.pool2(x3)\n",
        "    x5 = self.bottleneck3(x4)\n",
        "    x6 = self.pool2(x5)\n",
        "    x7 = self.residual4(x6)\n",
        "    x8 = self.pool4(x7)\n",
        "    x9 = self.flatten(x8)\n",
        "    x10 = self.fc1(x9)\n",
        "    x11 = self.fc2(x10)\n",
        "    x12 = self.out(x11)\n",
        "    return tanhshrink(x12) \n",
        "    \n",
        "\n",
        "def tanhshrink(x):\n",
        "  return tf.add(x, -tf.tanh(x))\n",
        "\n",
        "\n",
        "def train_test_split__(x,y, n_images, ratio):\n",
        "  print(np.shape(x))\n",
        "  print(n_images)\n",
        "  \n",
        "  x_train = []\n",
        "  x_test = []\n",
        "  y_train = []\n",
        "  y_test = []\n",
        "\n",
        "  for i in range(n_images):\n",
        "    rand_idx = np.random.rand()\n",
        "    print(\"wtf\")\n",
        "    if rand_idx > ratio:\n",
        "      x_train.append(x[i])\n",
        "      y_train.append(y[i])\n",
        "    else:\n",
        "      x_test.append(x[i])\n",
        "      y_test.append(y[i])\n",
        "\n",
        "  return np.array(x_train), np.array(x_test), np.array(y_train), np.array(y_test)    \n"
      ],
      "execution_count": 0,
      "outputs": []
    },
    {
      "cell_type": "code",
      "metadata": {
        "id": "nXnL9HlMiv1-",
        "colab_type": "code",
        "outputId": "823c3d85-3e40-4e76-b1be-9dd0e48dc710",
        "colab": {
          "base_uri": "https://localhost:8080/",
          "height": 594
        }
      },
      "source": [
        "\n",
        "all_indices = facial_keypoints_df.index.values\n",
        "\n",
        "notna_df = facial_keypoints_df.dropna()\n",
        "notna_indices = notna_df.index.values\n",
        "na_indices = np.array(list( set(all_indices.tolist()) - set(notna_indices.tolist()) ))\n",
        "\n",
        "length_all = len(notna_indices)\n",
        "\n",
        "shape = np.shape(images)\n",
        "image_tensor = []\n",
        "\n",
        "for i in range(shape[2]):\n",
        "  image_tensor.append(images[:,:,i])\n",
        "\n",
        "image_tensor = np.array(image_tensor)/255\n",
        "#image_tensor = tf.convert_to_tensor(image_tensor)/255\n",
        "keypoints = facial_keypoints_df.iloc[notna_indices].values\n",
        "_images = image_tensor[notna_indices, ...]\n",
        "\n",
        "test_images = image_tensor[na_indices, ...]\n",
        "\n",
        "validation_images = test_images[: int(shape[2]/10), ...]\n",
        "\n",
        "\n",
        "\n",
        "mean_keypoints = np.mean(keypoints, axis = 0)\n",
        "mean_keypoints = tf.cast(tf.convert_to_tensor(mean_keypoints), tf.float32)\n",
        "\n",
        "\n",
        "\n",
        "train_images, test_images, train_keypoints, test_keypoints = train_test_split(_images.tolist(), keypoints.tolist(), test_size = 0.1, shuffle = False)\n",
        "\n",
        "\n",
        "train_images = tf.cast(tf.convert_to_tensor(train_images), tf.float32)[..., None]\n",
        "test_images = tf.cast(tf.convert_to_tensor(test_images), tf.float32)[..., None]\n",
        "train_keypoints = tf.cast(tf.convert_to_tensor(train_keypoints), tf.float32)[..., None]\n",
        "test_keypoints = tf.cast(tf.convert_to_tensor(test_keypoints), tf.float32)[..., None]\n",
        "validation_images = tf.cast(tf.convert_to_tensor(validation_images), tf.float32)[..., None]\n",
        "\n",
        "length_train = np.shape(train_keypoints)[0]\n",
        "\n",
        "rand_idx = np.random.randint(length_train)\n",
        "\n",
        "plt.figure(figsize = (10,10))\n",
        "for i in range(4):\n",
        "\n",
        "  plt.subplot(2,2,1+i)\n",
        "  plt.imshow(train_images[i + rand_idx, :, :, 0], cmap='gray')\n",
        "  points = tf.Variable(keypoints[rand_idx+i, :])\n",
        "\n",
        "  plt.scatter(x = points[0::2], y = points[1::2], c = \"brown\")\n",
        "\n",
        "plt.show()\n",
        "plt.close()\n",
        "\n",
        "train_dataset = tf.data.Dataset.from_tensor_slices((train_images, train_keypoints)).batch(BATCH_SIZE)\n",
        "train_dist_dataset = tpu_strategy.experimental_distribute_dataset(train_dataset)\n",
        "\n",
        "test_dataset = tf.data.Dataset.from_tensor_slices((test_images, test_keypoints)).batch(BATCH_SIZE)\n",
        "test_dist_dataset = tpu_strategy.experimental_distribute_dataset(train_dataset)\n",
        "\n",
        "\n",
        "\n",
        "\n"
      ],
      "execution_count": 0,
      "outputs": [
        {
          "output_type": "display_data",
          "data": {
            "image/png": "[encoded data removed]",
            "text/plain": [
              "<Figure size 720x720 with 4 Axes>"
            ]
          },
          "metadata": {
            "tags": []
          }
        }
      ]
    },
    {
      "cell_type": "code",
      "metadata": {
        "id": "FMNu4-B5pq7V",
        "colab_type": "code",
        "outputId": "cab8eb79-5d72-45f3-dc5d-d39a240c9294",
        "colab": {
          "base_uri": "https://localhost:8080/",
          "height": 1000
        }
      },
      "source": [
        "start = time.localtime(time.time())\n",
        "\n",
        "losses = deque(maxlen = 50)\n",
        "losses_plot = []\n",
        "\n",
        "with tpu_strategy.scope():\n",
        "  # Set reduction to `none` so we can do the reduction afterwards and divide by\n",
        "  # global batch size.\n",
        "  loss_object = tf.keras.losses.MeanSquaredError(\n",
        "      reduction=tf.keras.losses.Reduction.NONE)\n",
        "  # or loss_fn = tf.keras.losses.sparse_categorical_crossentropy\n",
        "  def compute_loss(labels, predictions):\n",
        "    per_example_loss = loss_object(labels, predictions)\n",
        "    return tf.nn.compute_average_loss(per_example_loss, global_batch_size=BATCH_SIZE)\n",
        "\n",
        "  def train_step1(inputs, mean_keypoints):\n",
        "    images, labels = inputs\n",
        "\n",
        "    with tf.GradientTape() as tape:\n",
        "      predictions = model(images, train = True) + mean_keypoints\n",
        "      loss = compute_loss(labels, predictions)\n",
        "    \n",
        "      gradients = tape.gradient(loss, model.trainable_variables)\n",
        "    optimizer1.apply_gradients(zip(gradients, model.trainable_variables))\n",
        "\n",
        "    return loss \n",
        "\n",
        "  def train_step2(inputs, mean_keypoints):\n",
        "    images, labels = inputs\n",
        "\n",
        "    with tf.GradientTape() as tape:\n",
        "      predictions = model(images, train=True) + mean_keypoints\n",
        "      loss = compute_loss(labels, predictions)\n",
        "    \n",
        "      gradients = tape.gradient(loss, model.trainable_variables)\n",
        "    optimizer2.apply_gradients(zip(gradients, model.trainable_variables))\n",
        "\n",
        "    return loss   \n",
        "\n",
        "  def test_step(inputs, mean_keypoints):\n",
        "    images, labels = inputs\n",
        "\n",
        "    predictions = model(images, train = False) + mean_keypoints\n",
        "    loss = compute_loss(labels, predictions)\n",
        "\n",
        "    return loss   \n",
        "\n",
        "  model = BCNN(input_shape, num_classes, n_filters, n_fc1, n_fc2)\n",
        "  optimizer1 = tf.keras.optimizers.Adam(learning_rate=0.0001)\n",
        "  optimizer2 = tf.keras.optimizers.SGD(learning_rate=0.0001)\n",
        "\n",
        "  @tf.function\n",
        "  def distributed_train_step1(dataset_inputs, mean_keypoints):\n",
        "    per_replica_losses = tpu_strategy.experimental_run_v2(train_step1,\n",
        "                                                      args=(dataset_inputs, mean_keypoints, ))\n",
        "    return tpu_strategy.reduce(tf.distribute.ReduceOp.SUM, per_replica_losses,\n",
        "                           axis=None)\n",
        "  @tf.function\n",
        "  def distributed_train_step2(dataset_inputs, mean_keypoints):\n",
        "    per_replica_losses = tpu_strategy.experimental_run_v2(train_step2,\n",
        "                                                      args=(dataset_inputs, mean_keypoints, ))\n",
        "    return tpu_strategy.reduce(tf.distribute.ReduceOp.SUM, per_replica_losses,\n",
        "                           axis=None)  \n",
        "    \n",
        "  @tf.function\n",
        "  def distributed_test_step(dataset_inputs, mean_keypoints):\n",
        "    per_replica_losses = tpu_strategy.experimental_run_v2(test_step,\n",
        "                                                      args=(dataset_inputs, mean_keypoints, ))\n",
        "    return tpu_strategy.reduce(tf.distribute.ReduceOp.SUM, per_replica_losses,\n",
        "                           axis=None)  \n",
        " \n",
        "  step_test =0\n",
        "  step = 0\n",
        "  rand_idx = np.random.randint(10)\n",
        "\n",
        "\n",
        "  test_losses = []\n",
        "\n",
        "  for epoch in range(n_epochs):\n",
        "    \n",
        "    # TRAIN LOOP\n",
        "    num_batches = 0\n",
        "    if epoch > 0:\n",
        "      print(epoch)\n",
        "\n",
        "    for x in train_dist_dataset:\n",
        "      step+=1\n",
        "      if epoch > 350: \n",
        "        loss = distributed_train_step2(x, mean_keypoints)\n",
        "      else:  \n",
        "        loss = distributed_train_step1(x, mean_keypoints)\n",
        "      num_batches += 1\n",
        "      #if epoch == 1:\n",
        "      #  optimizer = tf.keras.optimizers.Adam(learning_rate=0.0001, beta_1 = 0.85)\n",
        "\n",
        "    for x_test in test_dist_dataset:\n",
        "      step_test += 1\n",
        "      loss = distributed_test_step(x_test, mean_keypoints)\n",
        "      if step_test == rand_idx:\n",
        "        check_image = x_test[0].values\n",
        "        if epoch > 10:\n",
        "          test_losses.append(loss)\n",
        "  print(\"all is working\")\n",
        "       \n",
        "\n",
        "  plt.plot(test_losses)\n",
        "  plt.show()\n",
        "  plt.close()\n",
        "\n",
        "with tf.device(\"cpu:0\"):\n",
        "  for j in range(8):\n",
        "    check_image_ = validation_images[j*100: j*100 +200]\n",
        "    output = (model(check_image_, train = False)) + mean_keypoints\n",
        "    for i in range(4):\n",
        "      image_ = check_image_[i,:,:,0]\n",
        "      keypoints_ = output[i]\n",
        "\n",
        "      plt.imshow(image_, cmap = \"gray\")\n",
        "      plt.scatter(x = keypoints_[0::2], y = keypoints_[1::2])\n",
        "      plt.show()\n",
        "\n",
        "\n",
        "\n",
        "\n",
        "end = time.localtime(time.time())\n",
        "start_in_sec = start[3]*3600 + start[4]*60 + start[5]\n",
        "end_in_sec = end[3]*3600 + end[4]*60 + end[5]\n",
        "\n",
        "\n",
        "all_time_min = int((end_in_sec-start_in_sec)/60)\n",
        "all_time_sec = (end_in_sec-start_in_sec)%60\n",
        "if all_time_min < 10:\n",
        "\tif all_time_sec < 10:\n",
        "\t\tprint('0%s:0%s' % (all_time_min, all_time_sec ))\n",
        "\telse:\n",
        "\t\tprint('0%s:%s' % (all_time_min, all_time_sec ))\t\n",
        "else:\n",
        "\tif all_time_sec < 10:\n",
        "\t\tprint('%s:0%s' % (all_time_min, all_time_sec ))\n",
        "\telse:\n",
        "\t\tprint('%s:%s' % (all_time_min, all_time_sec ))"
      ],
      "execution_count": 0,
      "outputs": [
        {
          "output_type": "stream",
          "text": [
            "1\n",
            "2\n",
            "3\n",
            "4\n",
            "5\n",
            "6\n",
            "7\n",
            "8\n",
            "9\n",
            "10\n",
            "11\n",
            "12\n",
            "13\n",
            "14\n",
            "15\n",
            "16\n",
            "17\n",
            "18\n",
            "19\n",
            "20\n",
            "21\n",
            "22\n",
            "23\n",
            "24\n",
            "25\n",
            "26\n",
            "27\n",
            "28\n",
            "29\n",
            "30\n",
            "31\n",
            "32\n",
            "33\n",
            "34\n",
            "35\n",
            "36\n",
            "37\n",
            "38\n",
            "39\n"
          ],
          "name": "stdout"
        },
        {
          "output_type": "error",
          "ename": "KeyboardInterrupt",
          "evalue": "ignored",
          "traceback": [
            "\u001b[0;31m---------------------------------------------------------------------------\u001b[0m",
            "\u001b[0;31mKeyboardInterrupt\u001b[0m                         Traceback (most recent call last)",
            "\u001b[0;32m<ipython-input-7-5efbbcabec7c>\u001b[0m in \u001b[0;36m<module>\u001b[0;34m()\u001b[0m\n\u001b[1;32m     94\u001b[0m       \u001b[0;31m#  optimizer = tf.keras.optimizers.Adam(learning_rate=0.0001, beta_1 = 0.85)\u001b[0m\u001b[0;34m\u001b[0m\u001b[0;34m\u001b[0m\u001b[0;34m\u001b[0m\u001b[0m\n\u001b[1;32m     95\u001b[0m \u001b[0;34m\u001b[0m\u001b[0m\n\u001b[0;32m---> 96\u001b[0;31m     \u001b[0;32mfor\u001b[0m \u001b[0mx_test\u001b[0m \u001b[0;32min\u001b[0m \u001b[0mtest_dist_dataset\u001b[0m\u001b[0;34m:\u001b[0m\u001b[0;34m\u001b[0m\u001b[0;34m\u001b[0m\u001b[0m\n\u001b[0m\u001b[1;32m     97\u001b[0m       \u001b[0mstep_test\u001b[0m \u001b[0;34m+=\u001b[0m \u001b[0;36m1\u001b[0m\u001b[0;34m\u001b[0m\u001b[0;34m\u001b[0m\u001b[0m\n\u001b[1;32m     98\u001b[0m       \u001b[0mloss\u001b[0m \u001b[0;34m=\u001b[0m \u001b[0mdistributed_test_step\u001b[0m\u001b[0;34m(\u001b[0m\u001b[0mx_test\u001b[0m\u001b[0;34m,\u001b[0m \u001b[0mmean_keypoints\u001b[0m\u001b[0;34m)\u001b[0m\u001b[0;34m\u001b[0m\u001b[0;34m\u001b[0m\u001b[0m\n",
            "\u001b[0;32m/usr/local/lib/python3.6/dist-packages/tensorflow_core/python/distribute/input_lib.py\u001b[0m in \u001b[0;36m__iter__\u001b[0;34m(self)\u001b[0m\n\u001b[1;32m    534\u001b[0m \u001b[0;34m\u001b[0m\u001b[0m\n\u001b[1;32m    535\u001b[0m     worker_iterators = _create_iterators_per_worker(self._cloned_datasets,\n\u001b[0;32m--> 536\u001b[0;31m                                                     self._input_workers)\n\u001b[0m\u001b[1;32m    537\u001b[0m     iterator = DistributedIterator(self._input_workers, worker_iterators,\n\u001b[1;32m    538\u001b[0m                                    self._strategy)\n",
            "\u001b[0;32m/usr/local/lib/python3.6/dist-packages/tensorflow_core/python/distribute/input_lib.py\u001b[0m in \u001b[0;36m_create_iterators_per_worker\u001b[0;34m(worker_datasets, input_workers)\u001b[0m\n\u001b[1;32m    955\u001b[0m       \u001b[0mworker_devices\u001b[0m \u001b[0;34m=\u001b[0m \u001b[0minput_workers\u001b[0m\u001b[0;34m.\u001b[0m\u001b[0mcompute_devices_for_worker\u001b[0m\u001b[0;34m(\u001b[0m\u001b[0mi\u001b[0m\u001b[0;34m)\u001b[0m\u001b[0;34m\u001b[0m\u001b[0;34m\u001b[0m\u001b[0m\n\u001b[1;32m    956\u001b[0m       iterator = _SingleWorkerDatasetIterator(worker_datasets[i], worker,\n\u001b[0;32m--> 957\u001b[0;31m                                               worker_devices)\n\u001b[0m\u001b[1;32m    958\u001b[0m       \u001b[0miterators\u001b[0m\u001b[0;34m.\u001b[0m\u001b[0mappend\u001b[0m\u001b[0;34m(\u001b[0m\u001b[0miterator\u001b[0m\u001b[0;34m)\u001b[0m\u001b[0;34m\u001b[0m\u001b[0;34m\u001b[0m\u001b[0m\n\u001b[1;32m    959\u001b[0m   \u001b[0;32mreturn\u001b[0m \u001b[0miterators\u001b[0m\u001b[0;34m\u001b[0m\u001b[0;34m\u001b[0m\u001b[0m\n",
            "\u001b[0;32m/usr/local/lib/python3.6/dist-packages/tensorflow_core/python/distribute/input_lib.py\u001b[0m in \u001b[0;36m__init__\u001b[0;34m(self, dataset, worker, devices)\u001b[0m\n\u001b[1;32m    822\u001b[0m     \u001b[0mself\u001b[0m\u001b[0;34m.\u001b[0m\u001b[0m_worker\u001b[0m \u001b[0;34m=\u001b[0m \u001b[0mworker\u001b[0m\u001b[0;34m\u001b[0m\u001b[0;34m\u001b[0m\u001b[0m\n\u001b[1;32m    823\u001b[0m     \u001b[0mself\u001b[0m\u001b[0;34m.\u001b[0m\u001b[0m_devices\u001b[0m \u001b[0;34m=\u001b[0m \u001b[0mdevices\u001b[0m\u001b[0;34m\u001b[0m\u001b[0;34m\u001b[0m\u001b[0m\n\u001b[0;32m--> 824\u001b[0;31m     \u001b[0mself\u001b[0m\u001b[0;34m.\u001b[0m\u001b[0m_make_iterator\u001b[0m\u001b[0;34m(\u001b[0m\u001b[0;34m)\u001b[0m\u001b[0;34m\u001b[0m\u001b[0;34m\u001b[0m\u001b[0m\n\u001b[0m\u001b[1;32m    825\u001b[0m \u001b[0;34m\u001b[0m\u001b[0m\n\u001b[1;32m    826\u001b[0m   \u001b[0;32mdef\u001b[0m \u001b[0m_make_iterator\u001b[0m\u001b[0;34m(\u001b[0m\u001b[0mself\u001b[0m\u001b[0;34m)\u001b[0m\u001b[0;34m:\u001b[0m\u001b[0;34m\u001b[0m\u001b[0;34m\u001b[0m\u001b[0m\n",
            "\u001b[0;32m/usr/local/lib/python3.6/dist-packages/tensorflow_core/python/distribute/input_lib.py\u001b[0m in \u001b[0;36m_make_iterator\u001b[0;34m(self)\u001b[0m\n\u001b[1;32m    828\u001b[0m     \u001b[0;32mwith\u001b[0m \u001b[0mops\u001b[0m\u001b[0;34m.\u001b[0m\u001b[0mdevice\u001b[0m\u001b[0;34m(\u001b[0m\u001b[0mself\u001b[0m\u001b[0;34m.\u001b[0m\u001b[0m_worker\u001b[0m\u001b[0;34m)\u001b[0m\u001b[0;34m:\u001b[0m\u001b[0;34m\u001b[0m\u001b[0;34m\u001b[0m\u001b[0m\n\u001b[1;32m    829\u001b[0m       self._iterator = multi_device_iterator_ops.MultiDeviceIterator(\n\u001b[0;32m--> 830\u001b[0;31m           self._dataset, self._devices)\n\u001b[0m\u001b[1;32m    831\u001b[0m \u001b[0;34m\u001b[0m\u001b[0m\n\u001b[1;32m    832\u001b[0m   \u001b[0;32mdef\u001b[0m \u001b[0mget_next\u001b[0m\u001b[0;34m(\u001b[0m\u001b[0mself\u001b[0m\u001b[0;34m,\u001b[0m \u001b[0mdevice\u001b[0m\u001b[0;34m,\u001b[0m \u001b[0mname\u001b[0m\u001b[0;34m=\u001b[0m\u001b[0;32mNone\u001b[0m\u001b[0;34m)\u001b[0m\u001b[0;34m:\u001b[0m\u001b[0;34m\u001b[0m\u001b[0;34m\u001b[0m\u001b[0m\n",
            "\u001b[0;32m/usr/local/lib/python3.6/dist-packages/tensorflow_core/python/data/ops/multi_device_iterator_ops.py\u001b[0m in \u001b[0;36m__init__\u001b[0;34m(self, dataset, devices, max_buffer_size, prefetch_buffer_size, source_device)\u001b[0m\n\u001b[1;32m    276\u001b[0m                                  \u001b[0mself\u001b[0m\u001b[0;34m.\u001b[0m\u001b[0m_incarnation_id\u001b[0m\u001b[0;34m,\u001b[0m\u001b[0;34m\u001b[0m\u001b[0;34m\u001b[0m\u001b[0m\n\u001b[1;32m    277\u001b[0m                                  \u001b[0mself\u001b[0m\u001b[0;34m.\u001b[0m\u001b[0m_source_device_tensor\u001b[0m\u001b[0;34m,\u001b[0m\u001b[0;34m\u001b[0m\u001b[0;34m\u001b[0m\u001b[0m\n\u001b[0;32m--> 278\u001b[0;31m                                  self._dataset.element_spec)\n\u001b[0m\u001b[1;32m    279\u001b[0m         \u001b[0mself\u001b[0m\u001b[0;34m.\u001b[0m\u001b[0m_prototype_device_datasets\u001b[0m\u001b[0;34m.\u001b[0m\u001b[0mappend\u001b[0m\u001b[0;34m(\u001b[0m\u001b[0mds\u001b[0m\u001b[0;34m)\u001b[0m\u001b[0;34m\u001b[0m\u001b[0;34m\u001b[0m\u001b[0m\n\u001b[1;32m    280\u001b[0m \u001b[0;34m\u001b[0m\u001b[0m\n",
            "\u001b[0;32m/usr/local/lib/python3.6/dist-packages/tensorflow_core/python/data/ops/multi_device_iterator_ops.py\u001b[0m in \u001b[0;36m__init__\u001b[0;34m(self, shard_num, multi_device_iterator_resource, incarnation_id, source_device, element_spec)\u001b[0m\n\u001b[1;32m    138\u001b[0m         \u001b[0mnext_func\u001b[0m\u001b[0;34m=\u001b[0m\u001b[0mself\u001b[0m\u001b[0;34m.\u001b[0m\u001b[0m_next_func\u001b[0m\u001b[0;34m,\u001b[0m\u001b[0;34m\u001b[0m\u001b[0;34m\u001b[0m\u001b[0m\n\u001b[1;32m    139\u001b[0m         \u001b[0mfinalize_func\u001b[0m\u001b[0;34m=\u001b[0m\u001b[0mself\u001b[0m\u001b[0;34m.\u001b[0m\u001b[0m_finalize_func\u001b[0m\u001b[0;34m,\u001b[0m\u001b[0;34m\u001b[0m\u001b[0;34m\u001b[0m\u001b[0m\n\u001b[0;32m--> 140\u001b[0;31m         **self._flat_structure)\n\u001b[0m\u001b[1;32m    141\u001b[0m     \u001b[0msuper\u001b[0m\u001b[0;34m(\u001b[0m\u001b[0m_PerDeviceGenerator\u001b[0m\u001b[0;34m,\u001b[0m \u001b[0mself\u001b[0m\u001b[0;34m)\u001b[0m\u001b[0;34m.\u001b[0m\u001b[0m__init__\u001b[0m\u001b[0;34m(\u001b[0m\u001b[0mvariant_tensor\u001b[0m\u001b[0;34m)\u001b[0m\u001b[0;34m\u001b[0m\u001b[0;34m\u001b[0m\u001b[0m\n\u001b[1;32m    142\u001b[0m \u001b[0;34m\u001b[0m\u001b[0m\n",
            "\u001b[0;32m/usr/local/lib/python3.6/dist-packages/tensorflow_core/python/ops/gen_dataset_ops.py\u001b[0m in \u001b[0;36mgenerator_dataset\u001b[0;34m(init_func_other_args, next_func_other_args, finalize_func_other_args, init_func, next_func, finalize_func, output_types, output_shapes, name)\u001b[0m\n\u001b[1;32m   1945\u001b[0m         \u001b[0;34m\"init_func\"\u001b[0m\u001b[0;34m,\u001b[0m \u001b[0minit_func\u001b[0m\u001b[0;34m,\u001b[0m \u001b[0;34m\"next_func\"\u001b[0m\u001b[0;34m,\u001b[0m \u001b[0mnext_func\u001b[0m\u001b[0;34m,\u001b[0m \u001b[0;34m\"finalize_func\"\u001b[0m\u001b[0;34m,\u001b[0m\u001b[0;34m\u001b[0m\u001b[0;34m\u001b[0m\u001b[0m\n\u001b[1;32m   1946\u001b[0m         \u001b[0mfinalize_func\u001b[0m\u001b[0;34m,\u001b[0m \u001b[0;34m\"output_types\"\u001b[0m\u001b[0;34m,\u001b[0m \u001b[0moutput_types\u001b[0m\u001b[0;34m,\u001b[0m \u001b[0;34m\"output_shapes\"\u001b[0m\u001b[0;34m,\u001b[0m\u001b[0;34m\u001b[0m\u001b[0;34m\u001b[0m\u001b[0m\n\u001b[0;32m-> 1947\u001b[0;31m         output_shapes)\n\u001b[0m\u001b[1;32m   1948\u001b[0m       \u001b[0;32mreturn\u001b[0m \u001b[0m_result\u001b[0m\u001b[0;34m\u001b[0m\u001b[0;34m\u001b[0m\u001b[0m\n\u001b[1;32m   1949\u001b[0m     \u001b[0;32mexcept\u001b[0m \u001b[0m_core\u001b[0m\u001b[0;34m.\u001b[0m\u001b[0m_FallbackException\u001b[0m\u001b[0;34m:\u001b[0m\u001b[0;34m\u001b[0m\u001b[0;34m\u001b[0m\u001b[0m\n",
            "\u001b[0;31mKeyboardInterrupt\u001b[0m: "
          ]
        }
      ]
    }
  ]
}